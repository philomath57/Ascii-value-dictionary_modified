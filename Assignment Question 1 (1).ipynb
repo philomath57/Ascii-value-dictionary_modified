{
 "cells": [
  {
   "cell_type": "code",
   "execution_count": 11,
   "id": "71b3928f",
   "metadata": {},
   "outputs": [
    {
     "name": "stdout",
     "output_type": "stream",
     "text": [
      "Enter the characters to get ASCII values between their range: a\n",
      "Enter the characters to get ASCII values between their range: z\n",
      "{'a': 97, 'b': 98, 'c': 99, 'd': 100, 'e': 101, 'f': 102, 'g': 103, 'h': 104, 'i': 105, 'j': 106, 'k': 107, 'l': 108, 'm': 109, 'n': 110, 'o': 111, 'p': 112, 'q': 113, 'r': 114, 's': 115, 't': 116, 'u': 117, 'v': 118, 'w': 119, 'x': 120, 'y': 121, 'z': 122}\n"
     ]
    }
   ],
   "source": [
    "inp = []\n",
    "d = {}\n",
    "for i in range(2):\n",
    "    n = input('Enter the characters to get ASCII values between their range: ')\n",
    "    inp.append(n)\n",
    "    \n",
    "for j in range (ord(inp[0]),ord(inp[1])+1):\n",
    "    d[chr(j)] = j\n",
    "print(d)"
   ]
  },
  {
   "cell_type": "code",
   "execution_count": null,
   "id": "3ac65904",
   "metadata": {},
   "outputs": [],
   "source": []
  }
 ],
 "metadata": {
  "kernelspec": {
   "display_name": "Python 3 (ipykernel)",
   "language": "python",
   "name": "python3"
  },
  "language_info": {
   "codemirror_mode": {
    "name": "ipython",
    "version": 3
   },
   "file_extension": ".py",
   "mimetype": "text/x-python",
   "name": "python",
   "nbconvert_exporter": "python",
   "pygments_lexer": "ipython3",
   "version": "3.9.7"
  }
 },
 "nbformat": 4,
 "nbformat_minor": 5
}
